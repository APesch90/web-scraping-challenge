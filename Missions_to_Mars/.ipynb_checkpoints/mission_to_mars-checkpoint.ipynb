{
 "cells": [
  {
   "cell_type": "code",
   "execution_count": 1,
   "id": "fec19d53",
   "metadata": {},
   "outputs": [],
   "source": [
    "# Dependencies\n",
    "from bs4 import BeautifulSoup as bs\n",
    "from splinter import Browser\n",
    "import time\n",
    "import pandas as pd\n",
    "import requests\n",
    "from webdriver_manager.chrome import ChromeDriverManager"
   ]
  },
  {
   "cell_type": "code",
   "execution_count": 2,
   "id": "202950d7",
   "metadata": {},
   "outputs": [],
   "source": [
    "# Initialize Browser \n",
    "\n",
    "def init_browser():\n",
    "    executable_path = {'executable_path': ChromeDriverManager().install()}\n",
    "    return Browser(\"chrome\", **executable_path, headless=False)"
   ]
  },
  {
   "cell_type": "code",
   "execution_count": 3,
   "id": "e2a87d3b",
   "metadata": {},
   "outputs": [
    {
     "name": "stderr",
     "output_type": "stream",
     "text": [
      "\n",
      "\n",
      "====== WebDriver manager ======\n",
      "Current google-chrome version is 91.0.4472\n",
      "Get LATEST driver version for 91.0.4472\n",
      "Driver [/Users/amandapesch/.wdm/drivers/chromedriver/mac64/91.0.4472.19/chromedriver] found in cache\n"
     ]
    },
    {
     "name": "stdout",
     "output_type": "stream",
     "text": [
      "['My Culture, My Voice', 'In honor of Hispanic Heritage Month, Christina Hernandez, an instrument engineer on the Mars 2020 mission, talks about her childhood and journey to NASA.']\n"
     ]
    }
   ],
   "source": [
    "# Scrape News Headline\n",
    "def scrape_news():\n",
    "    browser = init_browser()\n",
    "    url = 'https://redplanetscience.com/'\n",
    "    browser.visit(url)\n",
    "    time.sleep(2)\n",
    "    html = browser.html\n",
    "    soup = bs(html, 'html.parser')\n",
    "    news_title = soup.find('div', class_='content_title').text\n",
    "    news_p = soup.find('div', class_='article_teaser_body').text\n",
    "    browser.quit()\n",
    "    return [news_title, news_p]\n",
    "\n",
    "#print(scrape_news())"
   ]
  },
  {
   "cell_type": "code",
   "execution_count": 4,
   "id": "1c4ae212",
   "metadata": {},
   "outputs": [
    {
     "name": "stderr",
     "output_type": "stream",
     "text": [
      "\n",
      "\n",
      "====== WebDriver manager ======\n",
      "Current google-chrome version is 91.0.4472\n",
      "Get LATEST driver version for 91.0.4472\n",
      "Driver [/Users/amandapesch/.wdm/drivers/chromedriver/mac64/91.0.4472.19/chromedriver] found in cache\n"
     ]
    },
    {
     "name": "stdout",
     "output_type": "stream",
     "text": [
      "https://spaceimages-mars.com/image/featured/mars1.jpg\n"
     ]
    }
   ],
   "source": [
    "# Scrape Featured Image\n",
    "\n",
    "def scrape_image():\n",
    "    browser = init_browser()\n",
    "    url = 'https://spaceimages-mars.com'\n",
    "    browser.visit(url)\n",
    "    time.sleep(2)\n",
    "    html = browser.html\n",
    "    soup = bs(html, 'html.parser')\n",
    "    relative_image_path = soup.find_all('img')[1]['src']\n",
    "    featured_image_url = url + \"/\" + relative_image_path\n",
    "    browser.quit()\n",
    "    return(featured_image_url)\n",
    "\n",
    "#print(scrape_image())"
   ]
  },
  {
   "cell_type": "code",
   "execution_count": 14,
   "id": "155d953a",
   "metadata": {},
   "outputs": [
    {
     "ename": "AttributeError",
     "evalue": "'list' object has no attribute 'to_html'",
     "output_type": "error",
     "traceback": [
      "\u001b[0;31m---------------------------------------------------------------------------\u001b[0m",
      "\u001b[0;31mAttributeError\u001b[0m                            Traceback (most recent call last)",
      "\u001b[0;32m<ipython-input-14-b3b80c9e2c30>\u001b[0m in \u001b[0;36m<module>\u001b[0;34m\u001b[0m\n\u001b[1;32m     13\u001b[0m \u001b[0;31m#print(scrape_facts())\u001b[0m\u001b[0;34m\u001b[0m\u001b[0;34m\u001b[0m\u001b[0;34m\u001b[0m\u001b[0m\n\u001b[1;32m     14\u001b[0m \u001b[0;34m\u001b[0m\u001b[0m\n\u001b[0;32m---> 15\u001b[0;31m \u001b[0mprint\u001b[0m\u001b[0;34m(\u001b[0m\u001b[0mtype\u001b[0m\u001b[0;34m(\u001b[0m\u001b[0mscrape_facts\u001b[0m\u001b[0;34m(\u001b[0m\u001b[0;34m)\u001b[0m\u001b[0;34m[\u001b[0m\u001b[0;36m0\u001b[0m\u001b[0;34m]\u001b[0m\u001b[0;34m)\u001b[0m\u001b[0;34m)\u001b[0m\u001b[0;34m\u001b[0m\u001b[0;34m\u001b[0m\u001b[0m\n\u001b[0m",
      "\u001b[0;32m<ipython-input-14-b3b80c9e2c30>\u001b[0m in \u001b[0;36mscrape_facts\u001b[0;34m()\u001b[0m\n\u001b[1;32m      9\u001b[0m     \u001b[0murl\u001b[0m \u001b[0;34m=\u001b[0m \u001b[0;34m'https://galaxyfacts-mars.com'\u001b[0m\u001b[0;34m\u001b[0m\u001b[0;34m\u001b[0m\u001b[0m\n\u001b[1;32m     10\u001b[0m     \u001b[0mtable_pandas\u001b[0m \u001b[0;34m=\u001b[0m \u001b[0mpd\u001b[0m\u001b[0;34m.\u001b[0m\u001b[0mread_html\u001b[0m\u001b[0;34m(\u001b[0m\u001b[0murl\u001b[0m\u001b[0;34m)\u001b[0m\u001b[0;34m\u001b[0m\u001b[0;34m\u001b[0m\u001b[0m\n\u001b[0;32m---> 11\u001b[0;31m     \u001b[0mtable_html\u001b[0m \u001b[0;34m=\u001b[0m \u001b[0mtable_pandas\u001b[0m\u001b[0;34m.\u001b[0m\u001b[0mto_html\u001b[0m\u001b[0;34m(\u001b[0m\u001b[0;34m)\u001b[0m\u001b[0;34m\u001b[0m\u001b[0;34m\u001b[0m\u001b[0m\n\u001b[0m\u001b[1;32m     12\u001b[0m     \u001b[0;31m#return table_html\u001b[0m\u001b[0;34m\u001b[0m\u001b[0;34m\u001b[0m\u001b[0;34m\u001b[0m\u001b[0m\n\u001b[1;32m     13\u001b[0m \u001b[0;31m#print(scrape_facts())\u001b[0m\u001b[0;34m\u001b[0m\u001b[0;34m\u001b[0m\u001b[0;34m\u001b[0m\u001b[0m\n",
      "\u001b[0;31mAttributeError\u001b[0m: 'list' object has no attribute 'to_html'"
     ]
    }
   ],
   "source": [
    "# Scrape Mars Facts Table\n",
    "\n",
    "\"\"\"Visit the Mars Facts webpage [here](https://galaxyfacts-mars.com) \n",
    "and use Pandas to scrape the table containing facts about the planet \n",
    "including Diameter, Mass, etc.\"\"\"\n",
    "\n",
    "# Use Pandas to convert the data to a HTML table string.\n",
    "def scrape_facts():\n",
    "    url = 'https://galaxyfacts-mars.com'\n",
    "    table_pandas = pd.read_html(url)\n",
    "    table_html = table_pandas.to_html()\n",
    "    #return table_html\n",
    "#print(scrape_facts())\n",
    "\n",
    "print(type(scrape_facts()[0]))"
   ]
  },
  {
   "cell_type": "code",
   "execution_count": 6,
   "id": "7db3937a",
   "metadata": {},
   "outputs": [
    {
     "name": "stderr",
     "output_type": "stream",
     "text": [
      "\n",
      "\n",
      "====== WebDriver manager ======\n",
      "Current google-chrome version is 91.0.4472\n",
      "Get LATEST driver version for 91.0.4472\n",
      "Driver [/Users/amandapesch/.wdm/drivers/chromedriver/mac64/91.0.4472.19/chromedriver] found in cache\n"
     ]
    },
    {
     "name": "stdout",
     "output_type": "stream",
     "text": [
      "[{'title': 'Cerberus Hemisphere', 'img_url': 'https://marshemispheres.com/images/cerberus_enhanced.tif'}, {'title': 'Schiaparelli Hemisphere', 'img_url': 'https://marshemispheres.com/images/schiaparelli_enhanced.tif'}, {'title': 'Syrtis Major Hemisphere', 'img_url': 'https://marshemispheres.com/images/syrtis_major_enhanced.tif'}, {'title': 'Valles Marineris Hemisphere', 'img_url': 'https://marshemispheres.com/images/valles_marineris_enhanced.tif'}]\n"
     ]
    }
   ],
   "source": [
    "## Scrape Mars Hemisphere Images\n",
    "# Step 1 - Get hemisphere titles containing the hemisphere name with Beautiful Soup\n",
    "\"\"\" Step 2 - Get image url string for the full resolution \n",
    "# hemisphere images using Splinter\"\"\"\n",
    "\n",
    "def scrape_hemispheres():\n",
    "    url = 'https://marshemispheres.com/'\n",
    "    response = requests.get(url)\n",
    "    soup_1 = bs(response.text, 'html')\n",
    "    browser = init_browser()\n",
    "    list_urls = ['https://marshemispheres.com/cerberus.html', 'https://marshemispheres.com/schiaparelli.html', \n",
    "                 'https://marshemispheres.com/syrtis.html', 'https://marshemispheres.com/valles.html'] \n",
    "    \n",
    "    results = soup_1.find_all('h3')\n",
    "\n",
    "    title_list = []\n",
    "    # For loop to get all the headers (hemispheres) \n",
    "    # dropped the 5th element called \"Back\"\n",
    "    for result in results[:4]:\n",
    "        # Grab the header text\n",
    "        header = result.text\n",
    "        # Remove the word \"Enhanced\"\n",
    "        header_cleaned = header[:-9]\n",
    "        title_list.append(header_cleaned)\n",
    "\n",
    "    final_urls_list = []\n",
    "    \n",
    "    for url in list_urls:\n",
    "        browser.visit(url)\n",
    "        time.sleep(2)\n",
    "        html = browser.html\n",
    "        soup_2 = bs(html, 'html.parser')\n",
    "        links = [a['href'] for a in soup_2.find_all('a', href=True)]\n",
    "        image_url = links[4]\n",
    "        full_url = url + \"/\" + image_url\n",
    "        clean_url = url[:28]\n",
    "        final_urls = clean_url + image_url\n",
    "        final_urls_list.append(final_urls)\n",
    "\n",
    "    hemisphere_image_urls = [\n",
    "        {\"title\": title_list[0], \"img_url\": final_urls_list[0]},\n",
    "        {\"title\": title_list[1], \"img_url\": final_urls_list[1]},\n",
    "        {\"title\": title_list[2], \"img_url\": final_urls_list[2]},\n",
    "        {\"title\": title_list[3], \"img_url\": final_urls_list[3]}\n",
    "    ]\n",
    "\n",
    "    browser.quit()\n",
    "    return(hemisphere_image_urls)\n",
    "\n",
    "#print(scrape_hemispheres())"
   ]
  },
  {
   "cell_type": "code",
   "execution_count": 7,
   "id": "00d4caf4",
   "metadata": {},
   "outputs": [
    {
     "name": "stderr",
     "output_type": "stream",
     "text": [
      "\n",
      "\n",
      "====== WebDriver manager ======\n",
      "Current google-chrome version is 91.0.4472\n",
      "Get LATEST driver version for 91.0.4472\n",
      "Driver [/Users/amandapesch/.wdm/drivers/chromedriver/mac64/91.0.4472.19/chromedriver] found in cache\n",
      "\n",
      "\n",
      "====== WebDriver manager ======\n",
      "Current google-chrome version is 91.0.4472\n",
      "Get LATEST driver version for 91.0.4472\n",
      "Driver [/Users/amandapesch/.wdm/drivers/chromedriver/mac64/91.0.4472.19/chromedriver] found in cache\n",
      "\n",
      "\n",
      "====== WebDriver manager ======\n",
      "Current google-chrome version is 91.0.4472\n",
      "Get LATEST driver version for 91.0.4472\n",
      "Driver [/Users/amandapesch/.wdm/drivers/chromedriver/mac64/91.0.4472.19/chromedriver] found in cache\n"
     ]
    },
    {
     "name": "stdout",
     "output_type": "stream",
     "text": [
      "{'news': [\"NASA Engineers Checking InSight's Weather Sensors\", 'An electronics issue is suspected to be preventing the sensors from sharing their data about Mars weather with the spacecraft.'], 'featured_image': 'https://spaceimages-mars.com/image/featured/mars1.jpg', 'facts': [                         0                1                2\n",
      "0  Mars - Earth Comparison             Mars            Earth\n",
      "1                Diameter:         6,779 km        12,742 km\n",
      "2                    Mass:  6.39 × 10^23 kg  5.97 × 10^24 kg\n",
      "3                   Moons:                2                1\n",
      "4       Distance from Sun:   227,943,824 km   149,598,262 km\n",
      "5          Length of Year:   687 Earth days      365.24 days\n",
      "6             Temperature:     -87 to -5 °C      -88 to 58°C,                       0                              1\n",
      "0  Equatorial Diameter:                       6,792 km\n",
      "1       Polar Diameter:                       6,752 km\n",
      "2                 Mass:  6.39 × 10^23 kg (0.11 Earths)\n",
      "3                Moons:          2 ( Phobos & Deimos )\n",
      "4       Orbit Distance:       227,943,824 km (1.38 AU)\n",
      "5         Orbit Period:           687 days (1.9 years)\n",
      "6  Surface Temperature:                   -87 to -5 °C\n",
      "7         First Record:              2nd millennium BC\n",
      "8          Recorded By:           Egyptian astronomers], 'hemispheres': [{'title': 'Cerberus Hemisphere', 'img_url': 'https://marshemispheres.com/images/cerberus_enhanced.tif'}, {'title': 'Schiaparelli Hemisphere', 'img_url': 'https://marshemispheres.com/images/schiaparelli_enhanced.tif'}, {'title': 'Syrtis Major Hemisphere', 'img_url': 'https://marshemispheres.com/images/syrtis_major_enhanced.tif'}, {'title': 'Valles Marineris Hemisphere', 'img_url': 'https://marshemispheres.com/images/valles_marineris_enhanced.tif'}]}\n"
     ]
    }
   ],
   "source": [
    "# Bring everything together into one dictionary\n",
    "\n",
    "mars_data = {}\n",
    "\n",
    "def scrape():\n",
    "    news = scrape_news()\n",
    "    featured_image = scrape_image()\n",
    "    facts = scrape_facts()\n",
    "    hemispheres = scrape_hemispheres()\n",
    "    \n",
    "    \n",
    "    \n",
    "    mars_data['news'] = news\n",
    "    mars_data['featured_image'] = featured_image\n",
    "    mars_data['facts'] = facts\n",
    "    mars_data['hemispheres'] = hemispheres\n",
    "    \n",
    "    return mars_data\n",
    "#print(scrape())"
   ]
  }
 ],
 "metadata": {
  "kernelspec": {
   "display_name": "Python 3",
   "language": "python",
   "name": "python3"
  },
  "language_info": {
   "codemirror_mode": {
    "name": "ipython",
    "version": 3
   },
   "file_extension": ".py",
   "mimetype": "text/x-python",
   "name": "python",
   "nbconvert_exporter": "python",
   "pygments_lexer": "ipython3",
   "version": "3.8.5"
  }
 },
 "nbformat": 4,
 "nbformat_minor": 5
}
